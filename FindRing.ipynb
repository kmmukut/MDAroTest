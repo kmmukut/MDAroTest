{
 "cells": [
  {
   "cell_type": "code",
   "execution_count": 1,
   "metadata": {},
   "outputs": [],
   "source": [
    "import pandas as pd\n",
    "import numpy as np\n",
    "from mpl_toolkits.mplot3d import Axes3D\n",
    "import matplotlib.pyplot as plt\n",
    "from scipy.spatial import distance_matrix\n",
    "from scipy.sparse import csr_matrix\n",
    "from scipy.sparse.csgraph import depth_first_tree\n",
    "import scipy\n",
    "import networkx as nx"
   ]
  },
  {
   "cell_type": "code",
   "execution_count": 2,
   "metadata": {},
   "outputs": [
    {
     "data": {
      "text/html": [
       "<div>\n",
       "<style scoped>\n",
       "    .dataframe tbody tr th:only-of-type {\n",
       "        vertical-align: middle;\n",
       "    }\n",
       "\n",
       "    .dataframe tbody tr th {\n",
       "        vertical-align: top;\n",
       "    }\n",
       "\n",
       "    .dataframe thead th {\n",
       "        text-align: right;\n",
       "    }\n",
       "</style>\n",
       "<table border=\"1\" class=\"dataframe\">\n",
       "  <thead>\n",
       "    <tr style=\"text-align: right;\">\n",
       "      <th></th>\n",
       "      <th>1</th>\n",
       "      <th>2</th>\n",
       "      <th>3</th>\n",
       "    </tr>\n",
       "  </thead>\n",
       "  <tbody>\n",
       "    <tr>\n",
       "      <th>0</th>\n",
       "      <td>46.5221</td>\n",
       "      <td>23.2272</td>\n",
       "      <td>15.7731</td>\n",
       "    </tr>\n",
       "    <tr>\n",
       "      <th>1</th>\n",
       "      <td>52.7918</td>\n",
       "      <td>32.5747</td>\n",
       "      <td>30.6472</td>\n",
       "    </tr>\n",
       "    <tr>\n",
       "      <th>2</th>\n",
       "      <td>51.4788</td>\n",
       "      <td>19.6992</td>\n",
       "      <td>21.2963</td>\n",
       "    </tr>\n",
       "    <tr>\n",
       "      <th>4</th>\n",
       "      <td>66.2823</td>\n",
       "      <td>15.2787</td>\n",
       "      <td>29.3984</td>\n",
       "    </tr>\n",
       "    <tr>\n",
       "      <th>5</th>\n",
       "      <td>59.3501</td>\n",
       "      <td>23.6095</td>\n",
       "      <td>22.5923</td>\n",
       "    </tr>\n",
       "    <tr>\n",
       "      <th>...</th>\n",
       "      <td>...</td>\n",
       "      <td>...</td>\n",
       "      <td>...</td>\n",
       "    </tr>\n",
       "    <tr>\n",
       "      <th>754</th>\n",
       "      <td>59.6633</td>\n",
       "      <td>23.5870</td>\n",
       "      <td>18.5294</td>\n",
       "    </tr>\n",
       "    <tr>\n",
       "      <th>755</th>\n",
       "      <td>51.2364</td>\n",
       "      <td>36.8782</td>\n",
       "      <td>32.4872</td>\n",
       "    </tr>\n",
       "    <tr>\n",
       "      <th>756</th>\n",
       "      <td>43.7504</td>\n",
       "      <td>24.8203</td>\n",
       "      <td>31.2928</td>\n",
       "    </tr>\n",
       "    <tr>\n",
       "      <th>757</th>\n",
       "      <td>59.9207</td>\n",
       "      <td>20.6168</td>\n",
       "      <td>24.3486</td>\n",
       "    </tr>\n",
       "    <tr>\n",
       "      <th>759</th>\n",
       "      <td>72.7278</td>\n",
       "      <td>27.3387</td>\n",
       "      <td>13.5116</td>\n",
       "    </tr>\n",
       "  </tbody>\n",
       "</table>\n",
       "<p>559 rows × 3 columns</p>\n",
       "</div>"
      ],
      "text/plain": [
       "           1        2        3\n",
       "0    46.5221  23.2272  15.7731\n",
       "1    52.7918  32.5747  30.6472\n",
       "2    51.4788  19.6992  21.2963\n",
       "4    66.2823  15.2787  29.3984\n",
       "5    59.3501  23.6095  22.5923\n",
       "..       ...      ...      ...\n",
       "754  59.6633  23.5870  18.5294\n",
       "755  51.2364  36.8782  32.4872\n",
       "756  43.7504  24.8203  31.2928\n",
       "757  59.9207  20.6168  24.3486\n",
       "759  72.7278  27.3387  13.5116\n",
       "\n",
       "[559 rows x 3 columns]"
      ]
     },
     "execution_count": 2,
     "metadata": {},
     "output_type": "execute_result"
    }
   ],
   "source": [
    "df = pd.io.parsers.read_csv(\n",
    "    filepath_or_buffer='760atoms_1500K.xyz',\n",
    "    header=None,\n",
    "    sep='\\t',\n",
    "    )\n",
    "if df.shape[1]==4:\n",
    "    df = df[~df[0].astype(str).str.startswith('2')]\n",
    "df = df[df.columns[-3:]]\n",
    "df.to_csv(r'test.csv', index = None)\n",
    "df"
   ]
  },
  {
   "cell_type": "code",
   "execution_count": 3,
   "metadata": {},
   "outputs": [],
   "source": [
    "x=np.array(df)\n",
    "n=df.shape[0]\n",
    "d=np.zeros(n)\n",
    "\n",
    "for c in range(n):\n",
    "    d[c]=np.sqrt(x[c,0]*x[c,0]+x[c,1]*x[c,1]+x[c,2]*x[c,2]) "
   ]
  },
  {
   "cell_type": "code",
   "execution_count": 4,
   "metadata": {},
   "outputs": [],
   "source": [
    "# d"
   ]
  },
  {
   "cell_type": "code",
   "execution_count": 5,
   "metadata": {},
   "outputs": [],
   "source": [
    "main = np.hstack((d.reshape(n,1), x.reshape(n,3))).real\n",
    "main_sorted_arg = np.argsort(main[:, 0])\n",
    "main_sort = np.asarray(main[main_sorted_arg])\n",
    "main_sort=np.asarray(main_sort)"
   ]
  },
  {
   "cell_type": "code",
   "execution_count": 6,
   "metadata": {},
   "outputs": [],
   "source": [
    "#bond distance\n",
    "bond_distance = 1.6"
   ]
  },
  {
   "cell_type": "code",
   "execution_count": 7,
   "metadata": {},
   "outputs": [
    {
     "data": {
      "image/png": "[encoded data removed]",
      "text/plain": [
       "<Figure size 432x288 with 1 Axes>"
      ]
     },
     "metadata": {
      "needs_background": "light"
     },
     "output_type": "display_data"
    }
   ],
   "source": [
    "fig = plt.figure()\n",
    "ax1 = fig.add_subplot(111,projection='3d')\n",
    "ax1.set_xlabel(\"X\")\n",
    "ax1.set_ylabel(\"Y\")\n",
    "ax1.set_zlabel(\"Z\")\n",
    "# x, y, z = np.loadtxt('test.csv', delimiter=',',unpack=True)\n",
    "x=main[:,1]\n",
    "y=main[:,2]\n",
    "z=main[:,3]\n",
    "ax1.scatter(x,y,z, alpha=0.7, cmap='rainbow', marker='o',c='b')\n",
    "\n",
    "plt.show()"
   ]
  },
  {
   "cell_type": "code",
   "execution_count": null,
   "metadata": {},
   "outputs": [],
   "source": [
    "def checkDuplicate(neddleCycle, cycles):\n",
    "    neddleCycle = np.asarray(neddleCycle)\n",
    "    cycles = np.asarray(cycles)\n",
    "    \n",
    "    for cycle in cycles:\n",
    "        if len(cycle) != neddleCycle.shape[0]:\n",
    "            continue\n",
    "        if np.all(np.isin(neddleCycle, cycle)):\n",
    "            return True\n",
    "    return False\n",
    "\n",
    "\n",
    "main_sort=np.asarray(main_sort)\n",
    "graph = distance_matrix(main_sort[:, 1:], main_sort[:, 1:]) <= bond_distance\n",
    "np.fill_diagonal(graph, False)\n",
    "\n",
    "\n",
    "G = nx.DiGraph()\n",
    "G = nx.from_numpy_matrix(graph, create_using=nx.DiGraph)\n",
    "all_cycles = list(nx.simple_cycles(G))\n",
    "cycles = []\n",
    "\n",
    "for cycle in all_cycles:\n",
    "    if len(cycle) > 2 and not checkDuplicate(cycle, cycles):\n",
    "        cycles.append(cycle)\n",
    "#cycles.append([21,22,23,44,55,66,77,88,99,100,1201])\n",
    "# cycles\n",
    "\n"
   ]
  },
  {
   "cell_type": "code",
   "execution_count": null,
   "metadata": {},
   "outputs": [],
   "source": [
    " np.asarray(G)\n"
   ]
  },
  {
   "cell_type": "code",
   "execution_count": null,
   "metadata": {},
   "outputs": [],
   "source": [
    "molecular_array = []\n",
    "ring_array = []\n",
    "\n",
    "def isSubSet(current, toCompare):\n",
    "    \n",
    "    return np.in1d(toCompare,current).all()\n",
    "\n",
    "i = 0\n",
    "for r in cycles:\n",
    "    if(len(r)) < 8:\n",
    "        ring_array.append(r)\n",
    "        i += 1\n",
    "        continue\n",
    "    if i > 0:\n",
    "        prev_item = cycles[i-1]\n",
    "        \n",
    "        if isSubSet(r, prev_item):\n",
    "            #remove r from cycle or do some other thing\n",
    "            #print(\"Subset paise agertay\")\n",
    "            #print(r)\n",
    "            #print(prev_item)\n",
    "            molecular_array.append(r)\n",
    "            i+=1\n",
    "            continue\n",
    "        \n",
    "        \n",
    "    if i < len(cycles)-1:\n",
    "        next_item = cycles[i+1]\n",
    "        \n",
    "        if isSubSet(r, next_item):\n",
    "            #remove r from cycle or do some other thing\n",
    "            #print(\"Subset paise porertay\")\n",
    "            #print(r)\n",
    "            #print(next_item)\n",
    "            molecular_array.append(r)\n",
    "            i+=1\n",
    "            continue\n",
    "        \n",
    "    \n",
    "    ring_array.append(r)\n",
    "    \n",
    "    i += 1\n",
    "    \n",
    "# print(\"Boro array\",boro_array)\n",
    "# print(\"Choto array\",choto_array)\n",
    "\n",
    "\n",
    "a = {}\n",
    "b = {}\n",
    "\n",
    "\n",
    "for r in ring_array:\n",
    "    if len(r) in a:\n",
    "        a[len(r)] = a[len(r)] + 1\n",
    "    else:\n",
    "        a[len(r)] = 1\n",
    "\n",
    "for l in molecular_array:\n",
    "    if len(l) in b:\n",
    "        b[len(l)] = b[len(l)] + 1\n",
    "    else:\n",
    "        b[len(l)] = 1\n"
   ]
  },
  {
   "cell_type": "code",
   "execution_count": null,
   "metadata": {},
   "outputs": [],
   "source": [
    "if len(cycles)!=0:\n",
    "    ARnumber=np.unique(np.hstack(ring_array)).shape[0]\n",
    "    ALnumber=df.shape[0]-ARnumber\n",
    "    PercentageAromatic=ARnumber/(ARnumber+ALnumber)\n",
    "    PercentageAlephatic=ALnumber/(ARnumber+ALnumber)\n",
    "    print(\"Existing Rings\\t\",a)\n",
    "    print(\"Molecular Rings\\t\",b)\n",
    "    print(\"Number of Aromatic Carbon Atom\\t:\",ARnumber)\n",
    "    print(\"Number of Alephatic Carbon Atom\\t:\",ALnumber)\n",
    "    print(\"Percentage of Aromatic components\\t:\",PercentageAromatic)\n",
    "    print(\"Percentage of Alephatic components\\t:\",PercentageAlephatic)\n",
    "else:\n",
    "    print(\"No Ring Found\")"
   ]
  },
  {
   "cell_type": "code",
   "execution_count": null,
   "metadata": {},
   "outputs": [],
   "source": [
    "ring_array"
   ]
  },
  {
   "cell_type": "code",
   "execution_count": null,
   "metadata": {},
   "outputs": [],
   "source": [
    "1.3"
   ]
  }
 ],
 "metadata": {
  "kernelspec": {
   "display_name": "Python 3",
   "language": "python",
   "name": "python3"
  },
  "language_info": {
   "codemirror_mode": {
    "name": "ipython",
    "version": 3
   },
   "file_extension": ".py",
   "mimetype": "text/x-python",
   "name": "python",
   "nbconvert_exporter": "python",
   "pygments_lexer": "ipython3",
   "version": "3.7.6"
  }
 },
 "nbformat": 4,
 "nbformat_minor": 2
}
