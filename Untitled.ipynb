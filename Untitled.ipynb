{
 "cells": [
  {
   "cell_type": "code",
   "execution_count": 1,
   "metadata": {},
   "outputs": [
    {
     "name": "stdout",
     "output_type": "stream",
     "text": [
      "2\n"
     ]
    }
   ],
   "source": [
    "# Python3 program to find single  \n",
    "# cycle components in a graph.  \n",
    "N = 100000\n",
    "  \n",
    "# degree of all the vertices  \n",
    "degree = [0] * N  \n",
    "  \n",
    "# to keep track of all the  \n",
    "# vertices covered till now  \n",
    "found = [None] * N  \n",
    "  \n",
    "# All the vertices in a particular  \n",
    "# connected component of the graph  \n",
    "curr_graph = []  \n",
    "  \n",
    "# adjacency list  \n",
    "adj_list = [[] for i in range(N)]  \n",
    "  \n",
    "# depth-first traversal to identify  \n",
    "# all the nodes in a particular  \n",
    "# connected graph component  \n",
    "def DFS(v):  \n",
    "  \n",
    "    found[v] = True\n",
    "    curr_graph.append(v) \n",
    "      \n",
    "    for it in adj_list[v]:  \n",
    "        if not found[it]:  \n",
    "            DFS(it)  \n",
    "  \n",
    "# function to add an edge in the graph  \n",
    "def addEdge(adj_list, src, dest):  \n",
    "  \n",
    "    # for index decrement both src and dest.  \n",
    "    src, dest = src - 1, dest - 1\n",
    "    adj_list[src].append(dest)  \n",
    "    adj_list[dest].append(src)  \n",
    "    degree[src] += 1\n",
    "    degree[dest] += 1\n",
    "  \n",
    "def countSingleCycles(n, m):  \n",
    "  \n",
    "    # count of cycle graph components  \n",
    "    count = 0\n",
    "    for i in range(0, n):  \n",
    "        if not found[i]:  \n",
    "            curr_graph.clear()  \n",
    "            DFS(i)  \n",
    "  \n",
    "            # traversing the nodes of the  \n",
    "            # current graph component  \n",
    "            flag = 1\n",
    "            for v in curr_graph:  \n",
    "                if degree[v] == 2:  \n",
    "                    continue\n",
    "                else:  \n",
    "                    flag = 0\n",
    "                    break\n",
    "                  \n",
    "            if flag == 1:  \n",
    "                count += 1\n",
    "      \n",
    "    return count  \n",
    "  \n",
    "# Driver Code \n",
    "if __name__ == \"__main__\": \n",
    "  \n",
    "    # n->number of vertices  \n",
    "    # m->number of edges  \n",
    "    n, m = 15, 14\n",
    "    addEdge(adj_list, 1, 10)  \n",
    "    addEdge(adj_list, 1, 5)  \n",
    "    addEdge(adj_list, 5, 10)  \n",
    "    addEdge(adj_list, 2, 9)  \n",
    "    addEdge(adj_list, 9, 15)  \n",
    "    addEdge(adj_list, 2, 15)  \n",
    "    addEdge(adj_list, 2, 12)  \n",
    "    addEdge(adj_list, 12, 15)  \n",
    "    addEdge(adj_list, 13, 8)  \n",
    "    addEdge(adj_list, 6, 14)  \n",
    "    addEdge(adj_list, 14, 3)  \n",
    "    addEdge(adj_list, 3, 7)  \n",
    "    addEdge(adj_list, 7, 11)  \n",
    "    addEdge(adj_list, 11, 6)  \n",
    "  \n",
    "    print(countSingleCycles(n, m))  \n",
    "  "
   ]
  },
  {
   "cell_type": "code",
   "execution_count": null,
   "metadata": {},
   "outputs": [],
   "source": []
  },
  {
   "cell_type": "code",
   "execution_count": null,
   "metadata": {},
   "outputs": [],
   "source": []
  },
  {
   "cell_type": "code",
   "execution_count": null,
   "metadata": {},
   "outputs": [],
   "source": []
  },
  {
   "cell_type": "code",
   "execution_count": null,
   "metadata": {},
   "outputs": [],
   "source": []
  }
 ],
 "metadata": {
  "kernelspec": {
   "display_name": "Python 3",
   "language": "python",
   "name": "python3"
  },
  "language_info": {
   "codemirror_mode": {
    "name": "ipython",
    "version": 3
   },
   "file_extension": ".py",
   "mimetype": "text/x-python",
   "name": "python",
   "nbconvert_exporter": "python",
   "pygments_lexer": "ipython3",
   "version": "3.7.6"
  }
 },
 "nbformat": 4,
 "nbformat_minor": 2
}
