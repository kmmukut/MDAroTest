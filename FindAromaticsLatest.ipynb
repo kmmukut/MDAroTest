{
 "cells": [
  {
   "cell_type": "code",
   "execution_count": 1,
   "metadata": {},
   "outputs": [],
   "source": [
    "import pandas as pd\n",
    "import numpy as np\n",
    "from matplotlib import pyplot as plt\n",
    "from scipy.spatial import distance_matrix\n",
    "from scipy.sparse import csr_matrix\n",
    "from scipy.sparse.csgraph import depth_first_tree\n",
    "import scipy\n",
    "import networkx as nx"
   ]
  },
  {
   "cell_type": "code",
   "execution_count": 2,
   "metadata": {},
   "outputs": [
    {
     "data": {
      "text/plain": [
       "(26, 2)"
      ]
     },
     "execution_count": 2,
     "metadata": {},
     "output_type": "execute_result"
    }
   ],
   "source": [
    "df = pd.io.parsers.read_csv(\n",
    "    filepath_or_buffer='points.csv',\n",
    "    header=None,\n",
    "    sep=',',\n",
    "    )\n",
    "df.shape"
   ]
  },
  {
   "cell_type": "code",
   "execution_count": null,
   "metadata": {},
   "outputs": [],
   "source": []
  },
  {
   "cell_type": "code",
   "execution_count": 3,
   "metadata": {},
   "outputs": [
    {
     "data": {
      "text/plain": [
       "0      0.577\n",
       "1      1.732\n",
       "2      0.000\n",
       "3      2.309\n",
       "4      0.577\n",
       "5      1.732\n",
       "6      0.000\n",
       "7      2.309\n",
       "8      0.577\n",
       "9      1.732\n",
       "10     6.000\n",
       "11    10.000\n",
       "12     0.577\n",
       "13     1.732\n",
       "14     0.000\n",
       "15     2.309\n",
       "16     0.577\n",
       "17     1.732\n",
       "18    10.577\n",
       "19    11.732\n",
       "20    10.000\n",
       "21    12.309\n",
       "22    10.577\n",
       "23    11.732\n",
       "24    11.000\n",
       "25    12.000\n",
       "Name: 1, dtype: float64"
      ]
     },
     "execution_count": 3,
     "metadata": {},
     "output_type": "execute_result"
    }
   ],
   "source": [
    "df[1]"
   ]
  },
  {
   "cell_type": "code",
   "execution_count": 4,
   "metadata": {},
   "outputs": [
    {
     "data": {
      "text/plain": [
       "(26, 2)"
      ]
     },
     "execution_count": 4,
     "metadata": {},
     "output_type": "execute_result"
    }
   ],
   "source": [
    "x=np.array(df)\n",
    "x\n",
    "df.shape"
   ]
  },
  {
   "cell_type": "code",
   "execution_count": 5,
   "metadata": {},
   "outputs": [
    {
     "data": {
      "text/plain": [
       "array([[ 0.   ,  0.577],\n",
       "       [ 0.   ,  1.732],\n",
       "       [ 1.   ,  0.   ],\n",
       "       [ 1.   ,  2.309],\n",
       "       [ 2.   ,  0.577],\n",
       "       [ 2.   ,  1.732],\n",
       "       [ 3.   ,  0.   ],\n",
       "       [ 3.   ,  2.309],\n",
       "       [ 4.   ,  0.577],\n",
       "       [ 4.   ,  1.732],\n",
       "       [ 6.   ,  6.   ],\n",
       "       [10.   , 10.   ],\n",
       "       [10.   ,  0.577],\n",
       "       [10.   ,  1.732],\n",
       "       [11.   ,  0.   ],\n",
       "       [11.   ,  2.309],\n",
       "       [12.   ,  0.577],\n",
       "       [12.   ,  1.732],\n",
       "       [ 0.   , 10.577],\n",
       "       [ 0.   , 11.732],\n",
       "       [ 1.   , 10.   ],\n",
       "       [ 1.   , 12.309],\n",
       "       [ 2.   , 10.577],\n",
       "       [ 2.   , 11.732],\n",
       "       [10.   , 11.   ],\n",
       "       [10.   , 12.   ]])"
      ]
     },
     "execution_count": 5,
     "metadata": {},
     "output_type": "execute_result"
    }
   ],
   "source": [
    "x"
   ]
  },
  {
   "cell_type": "code",
   "execution_count": 6,
   "metadata": {},
   "outputs": [],
   "source": [
    "n=df.shape[0]\n",
    "d=np.zeros(n)\n",
    "\n",
    "for c in range(n):\n",
    "    d[c]=np.sqrt(x[c,0]*x[c,0]+x[c,1]*x[c,1]) "
   ]
  },
  {
   "cell_type": "code",
   "execution_count": 7,
   "metadata": {},
   "outputs": [
    {
     "data": {
      "text/plain": [
       "array([ 0.577     ,  1.732     ,  1.        ,  2.51624343,  2.08156888,\n",
       "        2.64571805,  3.        ,  3.78569426,  4.04140186,  4.35887875,\n",
       "        8.48528137, 14.14213562, 10.01663262, 10.14888289, 11.        ,\n",
       "       11.2397278 , 12.01386403, 12.12434839, 10.577     , 11.732     ,\n",
       "       10.04987562, 12.34955388, 10.76442887, 11.90125304, 14.86606875,\n",
       "       15.62049935])"
      ]
     },
     "execution_count": 7,
     "metadata": {},
     "output_type": "execute_result"
    }
   ],
   "source": [
    "d"
   ]
  },
  {
   "cell_type": "code",
   "execution_count": 8,
   "metadata": {},
   "outputs": [
    {
     "data": {
      "text/plain": [
       "<matplotlib.collections.PathCollection at 0x12b0c3710>"
      ]
     },
     "execution_count": 8,
     "metadata": {},
     "output_type": "execute_result"
    },
    {
     "data": {
      "image/png": "[encoded data removed]",
      "text/plain": [
       "<Figure size 432x288 with 1 Axes>"
      ]
     },
     "metadata": {
      "needs_background": "light"
     },
     "output_type": "display_data"
    }
   ],
   "source": [
    "plt.xlabel('X')\n",
    "plt.ylabel('Y')\n",
    "plt.scatter(\n",
    "    x[:,0],\n",
    "    x[:,1],\n",
    "    cmap='rainbow',\n",
    "    alpha=0.7,\n",
    "    edgecolors='c'\n",
    ")"
   ]
  },
  {
   "cell_type": "code",
   "execution_count": 9,
   "metadata": {},
   "outputs": [
    {
     "data": {
      "text/plain": [
       "array([[ 0.577     ,  0.        ,  0.577     ],\n",
       "       [ 1.732     ,  0.        ,  1.732     ],\n",
       "       [ 1.        ,  1.        ,  0.        ],\n",
       "       [ 2.51624343,  1.        ,  2.309     ],\n",
       "       [ 2.08156888,  2.        ,  0.577     ],\n",
       "       [ 2.64571805,  2.        ,  1.732     ],\n",
       "       [ 3.        ,  3.        ,  0.        ],\n",
       "       [ 3.78569426,  3.        ,  2.309     ],\n",
       "       [ 4.04140186,  4.        ,  0.577     ],\n",
       "       [ 4.35887875,  4.        ,  1.732     ],\n",
       "       [ 8.48528137,  6.        ,  6.        ],\n",
       "       [14.14213562, 10.        , 10.        ],\n",
       "       [10.01663262, 10.        ,  0.577     ],\n",
       "       [10.14888289, 10.        ,  1.732     ],\n",
       "       [11.        , 11.        ,  0.        ],\n",
       "       [11.2397278 , 11.        ,  2.309     ],\n",
       "       [12.01386403, 12.        ,  0.577     ],\n",
       "       [12.12434839, 12.        ,  1.732     ],\n",
       "       [10.577     ,  0.        , 10.577     ],\n",
       "       [11.732     ,  0.        , 11.732     ],\n",
       "       [10.04987562,  1.        , 10.        ],\n",
       "       [12.34955388,  1.        , 12.309     ],\n",
       "       [10.76442887,  2.        , 10.577     ],\n",
       "       [11.90125304,  2.        , 11.732     ],\n",
       "       [14.86606875, 10.        , 11.        ],\n",
       "       [15.62049935, 10.        , 12.        ]])"
      ]
     },
     "execution_count": 9,
     "metadata": {},
     "output_type": "execute_result"
    }
   ],
   "source": [
    "main = np.hstack((d.reshape(n,1), x.reshape(n,2)    )).real\n",
    "main\n"
   ]
  },
  {
   "cell_type": "code",
   "execution_count": 10,
   "metadata": {},
   "outputs": [],
   "source": [
    "main_sorted_arg = np.argsort(main[:, 0])\n",
    "main_sort_2 = main[main_sorted_arg]"
   ]
  },
  {
   "cell_type": "code",
   "execution_count": 11,
   "metadata": {},
   "outputs": [
    {
     "data": {
      "text/plain": [
       "1.1557005383792516"
      ]
     },
     "execution_count": 11,
     "metadata": {},
     "output_type": "execute_result"
    }
   ],
   "source": [
    "#bond distance\n",
    "\n",
    "# bond_distance = 1.732-.576\n",
    "bond_distance = 2/ np.sqrt(3) + 0.001\n",
    "bond_distance"
   ]
  },
  {
   "cell_type": "code",
   "execution_count": 12,
   "metadata": {},
   "outputs": [
    {
     "data": {
      "image/png": "[encoded data removed]",
      "text/plain": [
       "<Figure size 432x288 with 1 Axes>"
      ]
     },
     "metadata": {
      "needs_background": "light"
     },
     "output_type": "display_data"
    }
   ],
   "source": [
    "#find points in distance 5\n",
    "\n",
    "# filtered = [x for (x in mainSort and x[0] < 5)]\n",
    "\n",
    "# filtered = list(filter(lambda x: (x[0] < 5) , main_sort_2))\n",
    "filtered = main_sort_2\n",
    "np_filtered = np.asarray(filtered)\n",
    "marker = np.arange(len(filtered))\n",
    "np_filtered\n",
    "plt.xlabel('X')\n",
    "plt.ylabel('Y')\n",
    "plt.scatter(\n",
    "    np_filtered[:,1],\n",
    "    np_filtered[:,2],\n",
    "    cmap='rainbow',\n",
    "    alpha=0.7,\n",
    "    edgecolors='c',\n",
    ")\n",
    "plt.xlim(-0.5,  14)\n",
    "plt.ylim(-0.5, 14)\n",
    "for x in marker:\n",
    "    plt.text(np_filtered[x][1], np_filtered[x][2], '({})'.format(x))\n"
   ]
  },
  {
   "cell_type": "code",
   "execution_count": 13,
   "metadata": {},
   "outputs": [
    {
     "data": {
      "text/plain": [
       "[[12, 15, 19, 22, 18, 14],\n",
       " [11, 16, 20, 21, 17, 13],\n",
       " [0, 2, 4, 5, 7, 9, 8, 6, 3, 1],\n",
       " [0, 2, 4, 5, 3, 1],\n",
       " [3, 6, 8, 9, 7, 5]]"
      ]
     },
     "execution_count": 13,
     "metadata": {},
     "output_type": "execute_result"
    }
   ],
   "source": [
    "# graph2 = distance_matrix([[0,0,0,0],[0,1,2,3]], [[1,1,1,5],[2,2,2,7]])\n",
    "# print(graph2)\n",
    "def checkDuplicate(neddleCycle, cycles):\n",
    "    neddleCycle = np.asarray(neddleCycle)\n",
    "    cycles = np.asarray(cycles)\n",
    "    \n",
    "    for cycle in cycles:\n",
    "        if len(cycle) != neddleCycle.shape[0]:\n",
    "            continue\n",
    "        if np.all(np.isin(neddleCycle, cycle)):\n",
    "            return True\n",
    "        \n",
    "    return False\n",
    "    \n",
    "graph = distance_matrix(np_filtered[:, 1:], np_filtered[:, 1:]) <= bond_distance\n",
    "np.fill_diagonal(graph, False)\n",
    "# df = pd.DataFrame(np.asarray(graph, dtype=np.uint8)[11:22, 11:22])\n",
    "# df\n",
    "# nodes = np.arange(graph.shape[0])\n",
    "# edges_row, edges_col = np.where(graph == 1)\n",
    "# edges = zip(edges_row.tolist(), edges_row.tolist())\n",
    "# list(edges)\n",
    "G = nx.DiGraph()\n",
    "G = nx.from_numpy_matrix(graph, create_using=nx.DiGraph)\n",
    "all_cycles = list(nx.simple_cycles(G))\n",
    "cycles = []\n",
    "\n",
    "for cycle in all_cycles:\n",
    "    if len(cycle) > 2 and not checkDuplicate(cycle, cycles):\n",
    "        cycles.append(cycle)\n",
    "        \n",
    "cycles\n"
   ]
  },
  {
   "cell_type": "code",
   "execution_count": 14,
   "metadata": {},
   "outputs": [
    {
     "data": {
      "image/png": "[encoded data removed]",
      "text/plain": [
       "<Figure size 432x288 with 1 Axes>"
      ]
     },
     "metadata": {
      "needs_background": "light"
     },
     "output_type": "display_data"
    }
   ],
   "source": [
    "#find points in distance 5\n",
    "\n",
    "# filtered = [x for (x in mainSort and x[0] < 5)]\n",
    "\n",
    "# filtered = list(filter(lambda x: (x[0] < 5) , main_sort_2))\n",
    "filtered = main_sort_2\n",
    "np_filtered = np.asarray(filtered)\n",
    "marker = np.arange(len(filtered))\n",
    "np_filtered\n",
    "plt.xlabel('X')\n",
    "plt.ylabel('Y')\n",
    "plt.scatter(\n",
    "    np_filtered[:,1],\n",
    "    np_filtered[:,2],\n",
    "    cmap='rainbow',\n",
    "    alpha=0.7,\n",
    "    edgecolors='c',\n",
    ")\n",
    "plt.xlim(-0.5,  14)\n",
    "plt.ylim(-0.5, 14)\n",
    "for x in marker:\n",
    "    plt.text(np_filtered[x][1], np_filtered[x][2], '({})'.format(x))\n"
   ]
  },
  {
   "cell_type": "code",
   "execution_count": 15,
   "metadata": {},
   "outputs": [
    {
     "data": {
      "text/plain": [
       "array([0, 1, 3, 4, 5, 5, 7, 8, 9])"
      ]
     },
     "execution_count": 15,
     "metadata": {},
     "output_type": "execute_result"
    }
   ],
   "source": [
    "X = csr_matrix(graph)\n",
    "Tcsr = depth_first_tree(X, 0, directed=False)\n",
    "dfs_tree = Tcsr.toarray().astype(int)\n",
    "\n",
    "rows, cols = np.where(dfs_tree == 1)\n",
    "edges = zip(rows.tolist(), cols.tolist())\n",
    "node_map = {}\n",
    "# nodes = \n",
    "# for x, y in edges:\n",
    "#     if x not in node_map:\n",
    "#         node_map[x] = []\n",
    "#     node_map[x].append(y)\n",
    "    \n",
    "# print(node_map)\n",
    "# tree = []\n",
    "# x = list(node_map.keys())[0]\n",
    "# print(node_map[x][0])\n",
    "# i = 0\n",
    "# while(True and i < 7):\n",
    "#     if x not in rows:\n",
    "#         break\n",
    "#     tree.append((x, node_map[x][0]))\n",
    "#     x = node_map[x][0]\n",
    "#     i += 1\n",
    "# print(tree)\n",
    "np.nonzero(dfs_tree)[0]\n",
    "# np.nonzero([0, 1, 0, 0, 0, 1])"
   ]
  },
  {
   "cell_type": "code",
   "execution_count": 16,
   "metadata": {},
   "outputs": [
    {
     "name": "stdout",
     "output_type": "stream",
     "text": [
      "[(0, 1), (1, 3), (3, 5), (4, 2), (5, 4), (5, 7), (7, 9), (8, 6), (9, 8)]\n",
      "[]\n",
      "[]\n",
      "[]\n",
      "[(11, 13), (13, 17), (17, 21), (20, 16), (21, 20)]\n",
      "[]\n",
      "[(12, 14), (14, 18), (18, 22), (19, 15), (22, 19)]\n",
      "[]\n",
      "[(23, 24), (24, 25)]\n",
      "[]\n",
      "[array([1, 3, 5, 2, 4, 7, 9, 6, 8]), array([], dtype=int64), array([13, 17, 21, 16, 20]), array([14, 18, 22, 15, 19]), array([24, 25])]\n",
      "26\n"
     ]
    }
   ],
   "source": [
    "start_node = 0\n",
    "trees = []\n",
    "i = 0\n",
    "flags = np.ones((graph.shape[0]))\n",
    "count = 0\n",
    "\n",
    "while(True):\n",
    "    Tcsr = depth_first_tree(X, start_node, directed=False)\n",
    "    dfs_tree = Tcsr.toarray().astype(int)\n",
    "#     print(np.nonzero(dfs_tree))\n",
    "    tree = np.nonzero(dfs_tree)[1]\n",
    "    trees.append(tree)\n",
    "    flags[tree] = 0\n",
    "    flags[start_node] = 0\n",
    "    count += (tree.shape[0] + 1)\n",
    "    \n",
    "    rows, cols = np.where(dfs_tree == 1)\n",
    "    edges = zip(rows.tolist(), cols.tolist())\n",
    "    reverseEdges = zip(cols.tolist(), rows.tolist())\n",
    "    nodes = np.hstack((start_node, tree))\n",
    "#     print(nodes)\n",
    "    print(list(edges))\n",
    "    G = nx.DiGraph()\n",
    "    G.add_nodes_from(nodes)\n",
    "    G.add_edges_from(list(edges))\n",
    "    G.add_edges_from(list(reverseEdges))\n",
    "    \n",
    "#     nx.draw(G)\n",
    "#     plt.show()\n",
    "    \n",
    "    print(list(nx.simple_cycles(G)))\n",
    "    \n",
    "    if np.sum(flags) == 0:\n",
    "        break\n",
    "    start_node = np.nonzero(flags)[0][0]\n",
    "        \n",
    "print(trees)\n",
    "print(count)"
   ]
  },
  {
   "cell_type": "code",
   "execution_count": 17,
   "metadata": {},
   "outputs": [
    {
     "data": {
      "text/plain": [
       "[[12, 15, 19, 22, 18, 14],\n",
       " [11, 16, 20, 21, 17, 13],\n",
       " [0, 2, 4, 5, 7, 9, 8, 6, 3, 1],\n",
       " [0, 2, 4, 5, 3, 1],\n",
       " [3, 6, 8, 9, 7, 5]]"
      ]
     },
     "execution_count": 17,
     "metadata": {},
     "output_type": "execute_result"
    }
   ],
   "source": [
    "# graph2 = distance_matrix([[0,0,0,0],[0,1,2,3]], [[1,1,1,5],[2,2,2,7]])\n",
    "# print(graph2)\n",
    "def checkDuplicate(neddleCycle, cycles):\n",
    "    neddleCycle = np.asarray(neddleCycle)\n",
    "    cycles = np.asarray(cycles)\n",
    "    \n",
    "    for cycle in cycles:\n",
    "        if len(cycle) != neddleCycle.shape[0]:\n",
    "            continue\n",
    "        if np.all(np.isin(neddleCycle, cycle)):\n",
    "            return True\n",
    "        \n",
    "    return False\n",
    "\n",
    "def checkDuplicates(neddleCycle, cycles):\n",
    "    neddleCycle = np.asarray(neddleCycle)\n",
    "    cycles = np.asarray(cycles)\n",
    "    \n",
    "    for cycle in cycles:\n",
    "        if len(cycle) != neddleCycle.shape[0]:\n",
    "            continue\n",
    "        if np.all(np.isin(neddleCycle[0], cycle[0])):\n",
    "            return True\n",
    "        \n",
    "    return False\n",
    "    \n",
    "graph = distance_matrix(np_filtered[:, 1:], np_filtered[:, 1:]) <= bond_distance\n",
    "np.fill_diagonal(graph, False)\n",
    "# df = pd.DataFrame(np.asarray(graph, dtype=np.uint8)[11:22, 11:22])\n",
    "# df\n",
    "# nodes = np.arange(graph.shape[0])\n",
    "# edges_row, edges_col = np.where(graph == 1)\n",
    "# edges = zip(edges_row.tolist(), edges_row.tolist())\n",
    "# list(edges)\n",
    "G = nx.DiGraph()\n",
    "G = nx.from_numpy_matrix(graph, create_using=nx.DiGraph)\n",
    "all_cycles = list(nx.simple_cycles(G))\n",
    "cycles = []\n",
    "\n",
    "for cycle in all_cycles:\n",
    "    if len(cycle) > 2 and not checkDuplicate(cycle, cycles):\n",
    "        cycles.append(cycle)\n",
    "        \n",
    "        \n",
    "cycles\n",
    "#cycles.append([21,22,23,44,55,66,77,88,99,100,1201])\n",
    "cycles"
   ]
  },
  {
   "cell_type": "code",
   "execution_count": 18,
   "metadata": {},
   "outputs": [
    {
     "name": "stdout",
     "output_type": "stream",
     "text": [
      "Subset paise porertay\n",
      "[0, 2, 4, 5, 7, 9, 8, 6, 3, 1]\n",
      "[0, 2, 4, 5, 3, 1]\n",
      "Boro array [[0, 2, 4, 5, 7, 9, 8, 6, 3, 1]]\n",
      "Choto array [[12, 15, 19, 22, 18, 14], [11, 16, 20, 21, 17, 13], [0, 2, 4, 5, 3, 1], [3, 6, 8, 9, 7, 5]]\n"
     ]
    }
   ],
   "source": [
    "# for i in range(len(cycles)):\n",
    "#     a[i]=len(cycles[i])\n",
    "# # a=len(cycles[2])\n",
    "# rings=np.array(cycles,dtype=np.int)\n",
    "# rings\n",
    "# np.asarray(rings[i])\n",
    "\n",
    "\n",
    "\n",
    "# print(cycles)\n",
    "\n",
    "ARnumber=np.unique(np.hstack(cycles)).shape[0]\n",
    "ALnumber=df.shape[0]\n",
    "\n",
    "\n",
    "# 6 membered ring == 4\n",
    "# \n",
    "a = {}\n",
    "\n",
    "boro_array = []\n",
    "choto_array = []\n",
    "\n",
    "def isSubSet(current, toCompare):\n",
    "    \n",
    "    return np.in1d(toCompare,current).all()\n",
    "\n",
    "i = 0\n",
    "for r in cycles:\n",
    "    if(len(r)) < 8:\n",
    "        choto_array.append(r)\n",
    "        i += 1\n",
    "        continue\n",
    "    if i > 0:\n",
    "        prev_item = cycles[i-1]\n",
    "        \n",
    "        if isSubSet(r, prev_item):\n",
    "            #remove r from cycle or do some other thing\n",
    "            print(\"Subset paise agertay\")\n",
    "            print(r)\n",
    "            print(prev_item)\n",
    "            boro_array.append(r)\n",
    "            i+=1\n",
    "            continue\n",
    "        \n",
    "        \n",
    "    if i < len(cycles)-1:\n",
    "        next_item = cycles[i+1]\n",
    "        \n",
    "        if isSubSet(r, next_item):\n",
    "            #remove r from cycle or do some other thing\n",
    "            print(\"Subset paise porertay\")\n",
    "            print(r)\n",
    "            print(next_item)\n",
    "            boro_array.append(r)\n",
    "            i+=1\n",
    "            continue\n",
    "        \n",
    "    \n",
    "    choto_array.append(r)\n",
    "    \n",
    "    i += 1\n",
    "    \n",
    "print(\"Boro array\",boro_array)\n",
    "print(\"Choto array\",choto_array)\n",
    "\n",
    "for r in cycles:\n",
    "    if len(r) in a:\n",
    "        a[len(r)] = a[len(r)] + 1\n",
    "    else:\n",
    "        a[len(r)] = 1\n",
    "\n",
    "    \n"
   ]
  },
  {
   "cell_type": "code",
   "execution_count": 19,
   "metadata": {},
   "outputs": [
    {
     "data": {
      "text/plain": [
       "0"
      ]
     },
     "execution_count": 19,
     "metadata": {},
     "output_type": "execute_result"
    }
   ],
   "source": [
    "a[6] =2\n",
    "a[10] -1"
   ]
  },
  {
   "cell_type": "code",
   "execution_count": 20,
   "metadata": {},
   "outputs": [
    {
     "data": {
      "text/plain": [
       "26"
      ]
     },
     "execution_count": 20,
     "metadata": {},
     "output_type": "execute_result"
    }
   ],
   "source": [
    "df.shape[0]"
   ]
  },
  {
   "cell_type": "code",
   "execution_count": 21,
   "metadata": {},
   "outputs": [
    {
     "data": {
      "text/plain": [
       "True"
      ]
     },
     "execution_count": 21,
     "metadata": {},
     "output_type": "execute_result"
    }
   ],
   "source": [
    "a = [0, 7, 9, 8, 6, 3, 1, 2, 4, 5]\n",
    "\n",
    "b = [0, 2, 5, 7, 9]\n",
    "\n",
    "np.in1d(b,a).all()"
   ]
  },
  {
   "cell_type": "code",
   "execution_count": null,
   "metadata": {},
   "outputs": [],
   "source": []
  },
  {
   "cell_type": "code",
   "execution_count": null,
   "metadata": {},
   "outputs": [],
   "source": []
  }
 ],
 "metadata": {
  "kernelspec": {
   "display_name": "Python 3",
   "language": "python",
   "name": "python3"
  },
  "language_info": {
   "codemirror_mode": {
    "name": "ipython",
    "version": 3
   },
   "file_extension": ".py",
   "mimetype": "text/x-python",
   "name": "python",
   "nbconvert_exporter": "python",
   "pygments_lexer": "ipython3",
   "version": "3.7.6"
  }
 },
 "nbformat": 4,
 "nbformat_minor": 2
}
