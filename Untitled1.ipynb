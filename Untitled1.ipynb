{
 "cells": [
  {
   "cell_type": "code",
   "execution_count": 2,
   "metadata": {},
   "outputs": [],
   "source": [
    "import pandas as pd\n",
    "import numpy as np\n",
    "from mpl_toolkits.mplot3d import Axes3D\n",
    "import matplotlib.pyplot as plt\n",
    "from scipy.spatial import distance_matrix\n",
    "from scipy.sparse import csr_matrix\n",
    "from scipy.sparse.csgraph import depth_first_tree\n",
    "import scipy\n",
    "import networkx as nx"
   ]
  },
  {
   "cell_type": "code",
   "execution_count": 4,
   "metadata": {},
   "outputs": [
    {
     "data": {
      "text/html": [
       "<div>\n",
       "<style scoped>\n",
       "    .dataframe tbody tr th:only-of-type {\n",
       "        vertical-align: middle;\n",
       "    }\n",
       "\n",
       "    .dataframe tbody tr th {\n",
       "        vertical-align: top;\n",
       "    }\n",
       "\n",
       "    .dataframe thead th {\n",
       "        text-align: right;\n",
       "    }\n",
       "</style>\n",
       "<table border=\"1\" class=\"dataframe\">\n",
       "  <thead>\n",
       "    <tr style=\"text-align: right;\">\n",
       "      <th></th>\n",
       "      <th>0</th>\n",
       "      <th>1</th>\n",
       "      <th>2</th>\n",
       "    </tr>\n",
       "  </thead>\n",
       "  <tbody>\n",
       "    <tr>\n",
       "      <th>0</th>\n",
       "      <td>0</td>\n",
       "      <td>0.577</td>\n",
       "      <td>0</td>\n",
       "    </tr>\n",
       "    <tr>\n",
       "      <th>1</th>\n",
       "      <td>0</td>\n",
       "      <td>1.732</td>\n",
       "      <td>0</td>\n",
       "    </tr>\n",
       "    <tr>\n",
       "      <th>2</th>\n",
       "      <td>1</td>\n",
       "      <td>0.000</td>\n",
       "      <td>0</td>\n",
       "    </tr>\n",
       "    <tr>\n",
       "      <th>3</th>\n",
       "      <td>1</td>\n",
       "      <td>2.309</td>\n",
       "      <td>0</td>\n",
       "    </tr>\n",
       "    <tr>\n",
       "      <th>4</th>\n",
       "      <td>2</td>\n",
       "      <td>0.577</td>\n",
       "      <td>0</td>\n",
       "    </tr>\n",
       "    <tr>\n",
       "      <th>...</th>\n",
       "      <td>...</td>\n",
       "      <td>...</td>\n",
       "      <td>...</td>\n",
       "    </tr>\n",
       "    <tr>\n",
       "      <th>73</th>\n",
       "      <td>1</td>\n",
       "      <td>12.309</td>\n",
       "      <td>2</td>\n",
       "    </tr>\n",
       "    <tr>\n",
       "      <th>74</th>\n",
       "      <td>2</td>\n",
       "      <td>10.577</td>\n",
       "      <td>2</td>\n",
       "    </tr>\n",
       "    <tr>\n",
       "      <th>75</th>\n",
       "      <td>2</td>\n",
       "      <td>11.732</td>\n",
       "      <td>2</td>\n",
       "    </tr>\n",
       "    <tr>\n",
       "      <th>76</th>\n",
       "      <td>10</td>\n",
       "      <td>11.000</td>\n",
       "      <td>2</td>\n",
       "    </tr>\n",
       "    <tr>\n",
       "      <th>77</th>\n",
       "      <td>10</td>\n",
       "      <td>12.000</td>\n",
       "      <td>2</td>\n",
       "    </tr>\n",
       "  </tbody>\n",
       "</table>\n",
       "<p>78 rows × 3 columns</p>\n",
       "</div>"
      ],
      "text/plain": [
       "     0       1  2\n",
       "0    0   0.577  0\n",
       "1    0   1.732  0\n",
       "2    1   0.000  0\n",
       "3    1   2.309  0\n",
       "4    2   0.577  0\n",
       "..  ..     ... ..\n",
       "73   1  12.309  2\n",
       "74   2  10.577  2\n",
       "75   2  11.732  2\n",
       "76  10  11.000  2\n",
       "77  10  12.000  2\n",
       "\n",
       "[78 rows x 3 columns]"
      ]
     },
     "execution_count": 4,
     "metadata": {},
     "output_type": "execute_result"
    }
   ],
   "source": [
    "df = pd.io.parsers.read_csv(\n",
    "    filepath_or_buffer='points',\n",
    "    header=None,\n",
    "    sep='\\t',\n",
    "    )\n",
    "df = df[df.columns[-3:]]\n",
    "df.to_csv(r'test.csv', index = None)\n",
    "df\n"
   ]
  },
  {
   "cell_type": "code",
   "execution_count": 3,
   "metadata": {},
   "outputs": [],
   "source": [
    "x=np.array(df)\n",
    "n=df.shape[0]\n",
    "d=np.zeros(n)\n",
    "\n",
    "for c in range(n):\n",
    "    d[c]=np.sqrt(x[c,0]*x[c,0]+x[c,1]*x[c,1]+x[c,2]*x[c,2]) "
   ]
  },
  {
   "cell_type": "code",
   "execution_count": 4,
   "metadata": {},
   "outputs": [
    {
     "data": {
      "text/plain": [
       "array([ 0.577     ,  1.732     ,  1.        ,  2.51624343,  2.08156888,\n",
       "        2.64571805,  3.        ,  3.78569426,  4.04140186,  4.35887875,\n",
       "        8.48528137, 14.14213562, 10.01663262, 10.14888289, 11.        ,\n",
       "       11.2397278 , 12.01386403, 12.12434839, 10.577     , 11.732     ,\n",
       "       10.04987562, 12.34955388, 10.76442887, 11.90125304, 14.86606875,\n",
       "       15.62049935, 10.01663262, 10.14888289, 10.04987562, 10.31171572,\n",
       "       10.21434917, 10.34407193, 10.44030651, 10.69259   , 10.78577438,\n",
       "       10.90870405, 13.11487705, 17.32050808, 14.15390155, 14.24780067,\n",
       "       14.86606875, 15.04431723, 15.63115252, 15.71622805, 14.55585549,\n",
       "       15.41557083, 14.17744688, 15.89060984, 14.69261478, 15.54476838,\n",
       "       17.91647287, 18.54723699,  2.08156888,  2.64571805,  2.23606798,\n",
       "        3.21426212,  2.88668131,  3.31659826,  3.60555128,  4.28152788,\n",
       "        4.50920492,  4.79581317,  8.71779789, 14.28285686, 10.21434917,\n",
       "       10.34407193, 11.18033989, 11.4162814 , 12.17920067, 12.28819857,\n",
       "       10.76442887, 11.90125304, 10.24695077, 12.51045487, 10.94864964,\n",
       "       12.06813258, 15.        , 15.74801575])"
      ]
     },
     "execution_count": 4,
     "metadata": {},
     "output_type": "execute_result"
    }
   ],
   "source": [
    "d"
   ]
  },
  {
   "cell_type": "code",
   "execution_count": 5,
   "metadata": {},
   "outputs": [],
   "source": [
    "main = np.hstack((d.reshape(n,1), x.reshape(n,3))).real\n",
    "main_sorted_arg = np.argsort(main[:, 0])\n",
    "main_sort = np.asarray(main[main_sorted_arg])\n",
    "main_sort=np.asarray(main_sort)"
   ]
  },
  {
   "cell_type": "code",
   "execution_count": 6,
   "metadata": {},
   "outputs": [],
   "source": [
    "#bond distance\n",
    "bond_distance = 1.156"
   ]
  },
  {
   "cell_type": "code",
   "execution_count": 7,
   "metadata": {},
   "outputs": [
    {
     "data": {
      "image/png": "[encoded data removed]",
      "text/plain": [
       "<Figure size 432x288 with 1 Axes>"
      ]
     },
     "metadata": {
      "needs_background": "light"
     },
     "output_type": "display_data"
    }
   ],
   "source": [
    "fig = plt.figure()\n",
    "ax1 = fig.add_subplot(111,projection='3d')\n",
    "ax1.set_xlabel(\"X\")\n",
    "ax1.set_ylabel(\"Y\")\n",
    "ax1.set_zlabel(\"Z\")\n",
    "x, y, z = np.loadtxt('test.csv', delimiter=',',unpack=True)\n",
    "ax1.scatter(x,y,z, alpha=0.7, cmap='rainbow', marker='o',c='b')\n",
    "\n",
    "plt.show()"
   ]
  },
  {
   "cell_type": "code",
   "execution_count": 8,
   "metadata": {},
   "outputs": [],
   "source": [
    "def checkDuplicate(neddleCycle, cycles):\n",
    "    neddleCycle = np.asarray(neddleCycle)\n",
    "    cycles = np.asarray(cycles)\n",
    "    \n",
    "    for cycle in cycles:\n",
    "        if len(cycle) != neddleCycle.shape[0]:\n",
    "            continue\n",
    "        if np.all(np.isin(neddleCycle, cycle)):\n",
    "            return True\n",
    "    return False\n",
    "\n",
    "\n",
    "main_sort=np.asarray(main_sort)\n",
    "graph = distance_matrix(main_sort[:, 1:], main_sort[:, 1:]) <= bond_distance\n",
    "np.fill_diagonal(graph, False)\n",
    "\n",
    "\n",
    "G = nx.DiGraph()\n",
    "G = nx.from_numpy_matrix(graph, create_using=nx.DiGraph)\n",
    "all_cycles = list(nx.simple_cycles(G))\n",
    "cycles = []\n",
    "\n",
    "for cycle in all_cycles:\n",
    "    if len(cycle) > 2 and not checkDuplicate(cycle, cycles):\n",
    "        cycles.append(cycle)\n",
    "#cycles.append([21,22,23,44,55,66,77,88,99,100,1201])\n",
    "# cycles\n",
    "\n"
   ]
  },
  {
   "cell_type": "code",
   "execution_count": 9,
   "metadata": {},
   "outputs": [],
   "source": [
    "molecular_array = []\n",
    "ring_array = []\n",
    "\n",
    "def isSubSet(current, toCompare):\n",
    "    \n",
    "    return np.in1d(toCompare,current).all()\n",
    "\n",
    "i = 0\n",
    "for r in cycles:\n",
    "    if(len(r)) < 8:\n",
    "        ring_array.append(r)\n",
    "        i += 1\n",
    "        continue\n",
    "    if i > 0:\n",
    "        prev_item = cycles[i-1]\n",
    "        \n",
    "        if isSubSet(r, prev_item):\n",
    "            #remove r from cycle or do some other thing\n",
    "            #print(\"Subset paise agertay\")\n",
    "            #print(r)\n",
    "            #print(prev_item)\n",
    "            molecular_array.append(r)\n",
    "            i+=1\n",
    "            continue\n",
    "        \n",
    "        \n",
    "    if i < len(cycles)-1:\n",
    "        next_item = cycles[i+1]\n",
    "        \n",
    "        if isSubSet(r, next_item):\n",
    "            #remove r from cycle or do some other thing\n",
    "            #print(\"Subset paise porertay\")\n",
    "            #print(r)\n",
    "            #print(next_item)\n",
    "            molecular_array.append(r)\n",
    "            i+=1\n",
    "            continue\n",
    "        \n",
    "    \n",
    "    ring_array.append(r)\n",
    "    \n",
    "    i += 1\n",
    "    \n",
    "# print(\"Boro array\",boro_array)\n",
    "# print(\"Choto array\",choto_array)\n",
    "\n",
    "\n",
    "a = {}\n",
    "b = {}\n",
    "\n",
    "\n",
    "for r in ring_array:\n",
    "    if len(r) in a:\n",
    "        a[len(r)] = a[len(r)] + 1\n",
    "    else:\n",
    "        a[len(r)] = 1\n",
    "\n",
    "for l in molecular_array:\n",
    "    if len(l) in b:\n",
    "        b[len(l)] = b[len(l)] + 1\n",
    "    else:\n",
    "        b[len(l)] = 1\n"
   ]
  },
  {
   "cell_type": "code",
   "execution_count": 10,
   "metadata": {},
   "outputs": [
    {
     "name": "stdout",
     "output_type": "stream",
     "text": [
      "Existing Rings\t {6: 12}\n",
      "Molecular Rings\t {10: 3}\n",
      "Number of Aromatic Carbon Atom\t: 66\n",
      "Number of Alephatic Carbon Atom\t: 12\n",
      "Percentage of Aromatic components\t: 0.8461538461538461\n",
      "Percentage of Alephatic components\t: 0.15384615384615385\n"
     ]
    }
   ],
   "source": [
    "if len(cycles)!=0:\n",
    "    ARnumber=np.unique(np.hstack(ring_array)).shape[0]\n",
    "    ALnumber=df.shape[0]-ARnumber\n",
    "    PercentageAromatic=ARnumber/(ARnumber+ALnumber)\n",
    "    PercentageAlephatic=ALnumber/(ARnumber+ALnumber)\n",
    "    print(\"Existing Rings\\t\",a)\n",
    "    print(\"Molecular Rings\\t\",b)\n",
    "    print(\"Number of Aromatic Carbon Atom\\t:\",ARnumber)\n",
    "    print(\"Number of Alephatic Carbon Atom\\t:\",ALnumber)\n",
    "    print(\"Percentage of Aromatic components\\t:\",PercentageAromatic)\n",
    "    print(\"Percentage of Alephatic components\\t:\",PercentageAlephatic)\n",
    "else:\n",
    "    print(\"No Ring Found\")"
   ]
  },
  {
   "cell_type": "code",
   "execution_count": 11,
   "metadata": {},
   "outputs": [
    {
     "data": {
      "text/plain": [
       "[[68, 74, 69, 63, 59, 62],\n",
       " [65, 71, 72, 67, 60, 58],\n",
       " [38, 48, 55, 50, 41, 30],\n",
       " [33, 45, 53, 52, 43, 29],\n",
       " [35, 46, 54, 47, 37, 25],\n",
       " [32, 36, 40, 39, 34, 28],\n",
       " [32, 31, 26, 23, 24, 28],\n",
       " [42, 49, 51, 44, 27, 22],\n",
       " [4, 8, 11, 12, 9, 5],\n",
       " [9, 13, 18, 19, 16, 12],\n",
       " [0, 2, 6, 7, 3, 1],\n",
       " [3, 10, 15, 17, 14, 7]]"
      ]
     },
     "execution_count": 11,
     "metadata": {},
     "output_type": "execute_result"
    }
   ],
   "source": [
    "ring_array"
   ]
  },
  {
   "cell_type": "code",
   "execution_count": null,
   "metadata": {},
   "outputs": [],
   "source": []
  }
 ],
 "metadata": {
  "kernelspec": {
   "display_name": "Python 3",
   "language": "python",
   "name": "python3"
  },
  "language_info": {
   "codemirror_mode": {
    "name": "ipython",
    "version": 3
   },
   "file_extension": ".py",
   "mimetype": "text/x-python",
   "name": "python",
   "nbconvert_exporter": "python",
   "pygments_lexer": "ipython3",
   "version": "3.7.6"
  }
 },
 "nbformat": 4,
 "nbformat_minor": 2
}
